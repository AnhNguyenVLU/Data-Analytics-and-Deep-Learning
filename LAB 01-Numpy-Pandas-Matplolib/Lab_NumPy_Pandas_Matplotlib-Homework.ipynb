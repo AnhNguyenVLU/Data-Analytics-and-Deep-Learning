{
 "cells": [
  {
   "cell_type": "markdown",
   "id": "3c01cc5b",
   "metadata": {},
   "source": [
    "# **Lab: Khám phá dữ liệu với NumPy, Pandas và Matplotlib**"
   ]
  },
  {
   "cell_type": "markdown",
   "id": "b43e5f00",
   "metadata": {},
   "source": [
    "\n",
    "### **Mục tiêu**\n",
    "- Làm quen với NumPy: Tạo mảng, thao tác cơ bản và nâng cao với mảng.\n",
    "- Thực hành xử lý dữ liệu với Pandas: Đọc, phân tích và làm sạch dữ liệu.\n",
    "- Trực quan hóa dữ liệu bằng Matplotlib: Biểu đồ cơ bản và nâng cao.\n"
   ]
  },
  {
   "cell_type": "markdown",
   "id": "4db747ee",
   "metadata": {},
   "source": [
    "## **Phần 1: NumPy cơ bản**"
   ]
  },
  {
   "cell_type": "markdown",
   "id": "dfebca02",
   "metadata": {},
   "source": [
    "### **Bài tập 1: Tạo mảng và thao tác cơ bản**"
   ]
  },
  {
   "cell_type": "code",
   "execution_count": null,
   "id": "e8beb67f",
   "metadata": {},
   "outputs": [],
   "source": [
    "\n",
    "import numpy as np\n",
    "\n",
    "# 1. Tạo một mảng NumPy với các giá trị từ 1 đến 20\n",
    "array_1 = np.arange(1, 21)\n",
    "print(\"Mảng từ 1 đến 20:\", array_1)\n",
    "\n",
    "# 2. Tìm tổng, giá trị lớn nhất, nhỏ nhất và trung bình của mảng\n",
    "print(\"Tổng:\", array_1.sum())\n",
    "print(\"Giá trị lớn nhất:\", array_1.max())\n",
    "print(\"Giá trị nhỏ nhất:\", array_1.min())\n",
    "print(\"Trung bình:\", array_1.mean())\n",
    "\n",
    "# 3. Tạo một mảng 2D (3x5) chứa các số ngẫu nhiên từ 0 đến 100\n",
    "array_2d = np.random.randint(0, 101, size=(3, 5))\n",
    "print(\"Mảng 2D:\n",
    "\", array_2d)\n",
    "\n",
    "# 4. Lấy hàng thứ 2 và cột thứ 3 của mảng 2D\n",
    "print(\"Hàng thứ 2:\", array_2d[1, :])\n",
    "print(\"Cột thứ 3:\", array_2d[:, 2])\n"
   ]
  },
  {
   "cell_type": "markdown",
   "id": "e04ed2c1",
   "metadata": {},
   "source": [
    "### **Bài tập 2: Các thao tác nâng cao**"
   ]
  },
  {
   "cell_type": "code",
   "execution_count": null,
   "id": "8bfb4c61",
   "metadata": {},
   "outputs": [],
   "source": [
    "\n",
    "# 1. Tạo một mảng NumPy chứa 20 giá trị ngẫu nhiên từ 0 đến 1\n",
    "random_array = np.random.rand(20)\n",
    "print(\"Mảng ngẫu nhiên từ 0 đến 1:\", random_array)\n",
    "\n",
    "# 2. Chuẩn hóa mảng này (đưa các giá trị về khoảng [0, 1])\n",
    "normalized_array = (random_array - random_array.min()) / (random_array.max() - random_array.min())\n",
    "print(\"Mảng sau khi chuẩn hóa:\", normalized_array)\n",
    "\n",
    "# 3. Tính tích vô hướng (dot product) của hai mảng 1D\n",
    "a = np.array([1, 2, 3])\n",
    "b = np.array([4, 5, 6])\n",
    "dot_product = np.dot(a, b)\n",
    "print(\"Tích vô hướng của a và b:\", dot_product)\n",
    "\n",
    "# 4. Tạo một ma trận 5x5 và tính định thức, nghịch đảo\n",
    "matrix = np.random.randint(1, 10, size=(5, 5))\n",
    "print(\"Ma trận:\n",
    "\", matrix)\n",
    "determinant = np.linalg.det(matrix)\n",
    "print(\"Định thức của ma trận:\", determinant)\n",
    "if determinant != 0:\n",
    "    inverse_matrix = np.linalg.inv(matrix)\n",
    "    print(\"Ma trận nghịch đảo:\n",
    "\", inverse_matrix)\n",
    "else:\n",
    "    print(\"Ma trận không khả nghịch (định thức = 0).\")\n"
   ]
  },
  {
   "cell_type": "markdown",
   "id": "e33acf59",
   "metadata": {},
   "source": [
    "## **Phần 2: Pandas cơ bản**"
   ]
  },
  {
   "cell_type": "markdown",
   "id": "e2d7aa69",
   "metadata": {},
   "source": [
    "### **Bài tập 3: Làm quen với DataFrame**"
   ]
  },
  {
   "cell_type": "code",
   "execution_count": null,
   "id": "e8617a8a",
   "metadata": {},
   "outputs": [],
   "source": [
    "\n",
    "import pandas as pd\n",
    "\n",
    "# 1. Tạo DataFrame\n",
    "data = {\n",
    "    \"Name\": [\"Alice\", \"Bob\", \"Charlie\", \"David\", \"Eva\"],\n",
    "    \"Age\": [23, 25, 22, 24, 21],\n",
    "    \"Score\": [85, 90, 78, 92, 88]\n",
    "}\n",
    "df = pd.DataFrame(data)\n",
    "print(\"DataFrame:\n",
    "\", df)\n",
    "\n",
    "# 2. Tính giá trị trung bình của cột \"Score\"\n",
    "print(\"Điểm trung bình:\", df[\"Score\"].mean())\n",
    "\n",
    "# 3. Lọc các hàng có \"Score\" lớn hơn 85\n",
    "filtered_df = df[df[\"Score\"] > 85]\n",
    "print(\"Các hàng có Score > 85:\n",
    "\", filtered_df)\n"
   ]
  },
  {
   "cell_type": "markdown",
   "id": "b78fc398",
   "metadata": {},
   "source": [
    "### **Bài tập 4: Đọc và phân tích dữ liệu từ file**"
   ]
  },
  {
   "cell_type": "code",
   "execution_count": null,
   "id": "62551ea7",
   "metadata": {},
   "outputs": [],
   "source": [
    "\n",
    "# Đọc file CSV\n",
    "iris_df = pd.read_csv(\"https://raw.githubusercontent.com/mwaskom/seaborn-data/master/iris.csv\")\n",
    "print(\"Thông tin tổng quan về dữ liệu:\n",
    "\", iris_df.info())\n",
    "print(\"Mô tả dữ liệu:\n",
    "\", iris_df.describe())\n",
    "\n",
    "# Tính toán cơ bản\n",
    "print(\"Trung bình sepal_length:\", iris_df[\"sepal_length\"].mean())\n",
    "print(\"Giá trị lớn nhất sepal_length:\", iris_df[\"sepal_length\"].max())\n",
    "print(\"Giá trị nhỏ nhất sepal_length:\", iris_df[\"sepal_length\"].min())\n"
   ]
  },
  {
   "cell_type": "markdown",
   "id": "332f5c1f",
   "metadata": {},
   "source": [
    "## **Phần 3: Làm sạch dữ liệu**"
   ]
  },
  {
   "cell_type": "markdown",
   "id": "967ee936",
   "metadata": {},
   "source": [
    "### **Bài tập 5: Xử lý dữ liệu thiếu**"
   ]
  },
  {
   "cell_type": "code",
   "execution_count": null,
   "id": "e4582e08",
   "metadata": {},
   "outputs": [],
   "source": [
    "\n",
    "# Tạo DataFrame chứa dữ liệu thiếu\n",
    "data_with_missing = {\n",
    "    \"Name\": [\"Alice\", \"Bob\", \"Charlie\", \"David\", \"Eva\"],\n",
    "    \"Age\": [23, None, 25, 24, 22],\n",
    "    \"City\": [\"New York\", \"Boston\", None, \"Chicago\", \"Boston\"],\n",
    "    \"Salary\": [60000, 52000, None, 58000, None]\n",
    "}\n",
    "df_missing = pd.DataFrame(data_with_missing)\n",
    "print(\"Dữ liệu ban đầu:\n",
    "\", df_missing)\n",
    "\n",
    "# 1. Điền giá trị thiếu trong cột Age bằng giá trị trung bình\n",
    "df_missing[\"Age\"].fillna(df_missing[\"Age\"].mean(), inplace=True)\n",
    "print(\"Sau khi điền thiếu ở Age:\n",
    "\", df_missing)\n",
    "\n",
    "# 2. Xóa các hàng có nhiều hơn 1 giá trị thiếu\n",
    "df_cleaned = df_missing.dropna(thresh=3)\n",
    "print(\"Sau khi xóa hàng thiếu nhiều hơn 1 cột:\n",
    "\", df_cleaned)\n",
    "\n",
    "# 3. Điền giá trị thiếu trong cột Salary bằng 50000\n",
    "df_cleaned[\"Salary\"].fillna(50000, inplace=True)\n",
    "print(\"Sau khi điền thiếu ở Salary:\n",
    "\", df_cleaned)\n"
   ]
  },
  {
   "cell_type": "markdown",
   "id": "b386c09b",
   "metadata": {},
   "source": [
    "## **Phần 4: Trực quan hóa dữ liệu với Matplotlib**"
   ]
  },
  {
   "cell_type": "markdown",
   "id": "badc99ed",
   "metadata": {},
   "source": [
    "### **Bài tập 6: Biểu đồ cơ bản**"
   ]
  },
  {
   "cell_type": "code",
   "execution_count": null,
   "id": "2de20551",
   "metadata": {},
   "outputs": [],
   "source": [
    "\n",
    "import matplotlib.pyplot as plt\n",
    "\n",
    "# 1. Biểu đồ đường hàm số y = x^2\n",
    "x = np.linspace(-10, 10, 100)\n",
    "y = x**2\n",
    "plt.plot(x, y, label=\"y = x^2\")\n",
    "plt.title(\"Biểu đồ hàm số y = x^2\")\n",
    "plt.xlabel(\"x\")\n",
    "plt.ylabel(\"y\")\n",
    "plt.legend()\n",
    "plt.show()\n",
    "\n",
    "# 2. Biểu đồ cột điểm số\n",
    "plt.bar(df[\"Name\"], df[\"Score\"], color=\"skyblue\")\n",
    "plt.title(\"Điểm số của sinh viên\")\n",
    "plt.xlabel(\"Tên\")\n",
    "plt.ylabel(\"Điểm số\")\n",
    "plt.show()\n"
   ]
  },
  {
   "cell_type": "markdown",
   "id": "2a472a75",
   "metadata": {},
   "source": [
    "### **Bài tập 7: Biểu đồ nâng cao**"
   ]
  },
  {
   "cell_type": "code",
   "execution_count": null,
   "id": "003e508e",
   "metadata": {},
   "outputs": [],
   "source": [
    "\n",
    "# 1. Biểu đồ phân tán với màu sắc theo loại hoa\n",
    "plt.figure(figsize=(8, 6))\n",
    "species_colors = {\"setosa\": \"red\", \"versicolor\": \"blue\", \"virginica\": \"green\"}\n",
    "colors = iris_df[\"species\"].map(species_colors)\n",
    "plt.scatter(iris_df[\"sepal_length\"], iris_df[\"sepal_width\"], c=colors, alpha=0.7)\n",
    "plt.title(\"Phân tán Sepal Length và Sepal Width\")\n",
    "plt.xlabel(\"Sepal Length\")\n",
    "plt.ylabel(\"Sepal Width\")\n",
    "plt.legend(species_colors.keys())\n",
    "plt.show()\n"
   ]
  }
 ],
 "metadata": {},
 "nbformat": 4,
 "nbformat_minor": 5
}
